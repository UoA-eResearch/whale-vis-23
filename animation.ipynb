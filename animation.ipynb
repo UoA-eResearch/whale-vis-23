{
 "cells": [
  {
   "cell_type": "code",
   "execution_count": null,
   "id": "75b209ea-5aed-48e7-ad21-eaef76d55f05",
   "metadata": {},
   "outputs": [],
   "source": [
    "%load_ext autoreload\n",
    "%autoreload 2"
   ]
  },
  {
   "cell_type": "code",
   "execution_count": null,
   "id": "2beb3bac-3d01-427a-91fb-4bbc599c0c09",
   "metadata": {},
   "outputs": [],
   "source": [
    "import geopandas as gpd\n",
    "import pandas as pd\n",
    "import numpy as np\n",
    "from os import path\n",
    "\n",
    "pd.set_option('display.max_columns', None)\n",
    "pd.set_option('display.max_rows', 500)"
   ]
  },
  {
   "cell_type": "markdown",
   "id": "b6589368-d928-4562-bef8-658090e3c183",
   "metadata": {},
   "source": [
    "## Load data\n",
    "Load interpolated/point data for vessels/whales - this is at 10 minute resolution, allowing detection of encounters between vessels/whales"
   ]
  },
  {
   "cell_type": "code",
   "execution_count": null,
   "id": "5e23021c47eb4be6",
   "metadata": {},
   "outputs": [],
   "source": [
    "from data_processing import load_data"
   ]
  },
  {
   "cell_type": "code",
   "execution_count": null,
   "id": "ba8590a0d2d5eec2",
   "metadata": {
    "collapsed": false
   },
   "outputs": [],
   "source": [
    "whales, vessels, protected_areas, basemap, bounds = load_data.load_all()"
   ]
  },
  {
   "cell_type": "code",
   "execution_count": null,
   "id": "03d49341-3e94-493b-ba27-433a43a929ff",
   "metadata": {
    "collapsed": false
   },
   "outputs": [],
   "source": [
    "vessel_data_files = [path.join('data', 'vessels', f'{vessel_type}_points.gpkg') for vessel_type in ['Fishing', 'Other', 'Cargo', 'Passenger', 'Tanker']]\n",
    "vessel_data_sets = [load_data.load_vessel_points(vdf, 2193) for vdf in vessel_data_files]\n",
    "\n",
    "vessel_points = pd.concat(vessel_data_sets)"
   ]
  },
  {
   "cell_type": "code",
   "execution_count": null,
   "id": "a884cb46-5296-4287-8266-cba6e381ade4",
   "metadata": {},
   "outputs": [],
   "source": [
    "whales_points = load_data.load_whales('data/whales/df_all_3.csv', vessel_points.geometry.total_bounds, 2193, 10)"
   ]
  },
  {
   "cell_type": "markdown",
   "id": "749d38ee-a8af-4382-aaf1-daa9090d3039",
   "metadata": {},
   "source": [
    "## Plotting\n",
    "Plot vessel + whale traces, color encounters"
   ]
  },
  {
   "cell_type": "code",
   "execution_count": null,
   "id": "a5dab463-abfa-4589-8916-07742fe23114",
   "metadata": {},
   "outputs": [],
   "source": [
    "from plotting import heatmap"
   ]
  },
  {
   "cell_type": "code",
   "execution_count": null,
   "id": "619dcfb9-cf26-4e1e-876c-2500ae9f5fcc",
   "metadata": {
    "collapsed": false
   },
   "outputs": [],
   "source": [
    "from bokeh.io import output_notebook, export_png\n",
    "from bokeh.plotting import show, figure\n",
    "from bokeh.models import ColumnDataSource, CDSView, BooleanFilter\n",
    "\n",
    "output_notebook()"
   ]
  },
  {
   "cell_type": "markdown",
   "id": "012e652d-8625-4237-b91c-e81177443452",
   "metadata": {},
   "source": [
    "## Create animation frames"
   ]
  },
  {
   "cell_type": "code",
   "execution_count": null,
   "id": "e73d413499d91a5b",
   "metadata": {
    "collapsed": false
   },
   "outputs": [],
   "source": [
    "start = '2022-08-01'\n",
    "end = '2022-09-01'\n",
    "whale_mask = (whales_points.timestamp >= start) & (whales_points.timestamp < end)\n",
    "vessel_mask = (vessel_points.timestamp >= start) & (vessel_points.timestamp < end)\n",
    "timestamps = pd.date_range(start, end, freq='30min')"
   ]
  },
  {
   "cell_type": "code",
   "execution_count": null,
   "id": "fd0205faf1332a2b",
   "metadata": {
    "collapsed": false
   },
   "outputs": [],
   "source": [
    "for ind, ts in enumerate(timestamps[::5]):\n",
    "    print(ind)\n",
    "    fig = heatmap.animation_frame(whales_points[whale_mask], vessel_points[vessel_mask], protected_areas, basemap, bounds, ts)\n",
    "    export_png(fig, filename=f'frames/{ind}.png')"
   ]
  },
  {
   "cell_type": "markdown",
   "id": "8bf72f96-7796-4cda-b215-689efa51f94a",
   "metadata": {},
   "source": [
    "## Incomplete work on a streaming version below\n",
    "This could be useful for embedding this animation as a static webpage with slider, which would require:\n",
    "- A column data source containing all vessels, +1 for whales\n",
    "- CustomJS on a slider to replace the actual CDS's (1 per vessel/whale) with slices from the complete source CDS"
   ]
  },
  {
   "cell_type": "code",
   "execution_count": null,
   "id": "c6a4eb5071682334",
   "metadata": {
    "collapsed": false
   },
   "outputs": [],
   "source": [
    "# Callsign/id/timestamp indices\n",
    "callsigns = vessel_points[vessel_mask].callsign.unique()\n",
    "wh_ids = whales_points[whale_mask].id.unique()\n",
    "timestamps = pd.date_range(start, end, freq='30min')\n",
    "timestamps_int = timestamps.astype('int64') / 1e9\n",
    "\n",
    "# Build column x/y per callsign/id\n",
    "vessel_cols = {'timestamp': timestamps_int}\n",
    "for callsign, group in vessel_points[vessel_mask].groupby('callsign'):\n",
    "    group = group.set_index('timestamp').reindex(timestamps, method='nearest').reset_index(\n",
    "        names='timestamp')\n",
    "    vessel_cols[f'{callsign}_x'] = group.geometry.x\n",
    "    vessel_cols[f'{callsign}_y'] = group.geometry.y\n",
    "\n",
    "whale_cols = {'timestamp': timestamps_int}\n",
    "for wh_id, group in whales_points[whale_mask].groupby('id'):\n",
    "    group = group.set_index('timestamp').reindex(timestamps, method='nearest').reset_index(\n",
    "        names='timestamp')\n",
    "    whale_cols[f'{wh_id}_x'] = group.geometry.x\n",
    "    whale_cols[f'{wh_id}_y'] = group.geometry.y\n",
    "    \n",
    "# Build column source for vessels/whales\n",
    "vessel_source = ColumnDataSource(vessel_cols)\n",
    "whale_source = ColumnDataSource(whale_cols)"
   ]
  },
  {
   "cell_type": "markdown",
   "id": "04113d9a-d4b5-4ab6-8749-dfa0f7d149d0",
   "metadata": {},
   "source": [
    "Note that the below doesn't work - you can't filter data for glyphs that require continuity"
   ]
  },
  {
   "cell_type": "code",
   "execution_count": null,
   "id": "c6c48e5cf2f79803",
   "metadata": {
    "collapsed": false
   },
   "outputs": [],
   "source": [
    "# CDSView filtering up to current timestamp\n",
    "vessel_view = CDSView(filter=BooleanFilter(vessel_cols['timestamp'] <= timestamps_int[1000]))\n",
    "whale_view = CDSView(filter=BooleanFilter(whale_cols['timestamp'] <= timestamps_int[1000]))"
   ]
  },
  {
   "cell_type": "code",
   "execution_count": null,
   "id": "e5659800287d855e",
   "metadata": {
    "collapsed": false
   },
   "outputs": [],
   "source": [
    "m = timestamps_int < timestamps_int[800]\n",
    "\n",
    "ve_data = {k: v[m] for k, v in vessel_cols.items()}"
   ]
  },
  {
   "cell_type": "code",
   "execution_count": null,
   "id": "df58489738f760fc",
   "metadata": {
    "collapsed": false
   },
   "outputs": [],
   "source": [
    "# Plot\n",
    "fig = figure()\n",
    "for cs in callsigns:\n",
    "    fig.line(x=ve_data[f'{cs}_x'], y=ve_data[f'{cs}_y'], color='blue')\n",
    "# fig.multi_line(xs=[f'{callsign}_x' for callsign in callsigns], ys=[f'{callsign}_y' for callsign in callsigns], source=vessel_source, color='blue')\n",
    "# fig.multi_line(xs=[f'{wh_id}_x' for wh_id in wh_ids], ys=[f'{wh_id}_y' for wh_id in wh_ids], source=whale_source, view=whale_view, color='red')\n",
    "\n",
    "show(fig)"
   ]
  }
 ],
 "metadata": {
  "kernelspec": {
   "display_name": "Python 3 (ipykernel)",
   "language": "python",
   "name": "python3"
  },
  "language_info": {
   "codemirror_mode": {
    "name": "ipython",
    "version": 3
   },
   "file_extension": ".py",
   "mimetype": "text/x-python",
   "name": "python",
   "nbconvert_exporter": "python",
   "pygments_lexer": "ipython3",
   "version": "3.11.4"
  }
 },
 "nbformat": 4,
 "nbformat_minor": 5
}
