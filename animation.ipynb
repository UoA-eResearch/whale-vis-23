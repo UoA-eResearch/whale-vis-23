{
 "cells": [
  {
   "cell_type": "code",
   "execution_count": null,
   "id": "75b209ea-5aed-48e7-ad21-eaef76d55f05",
   "metadata": {},
   "outputs": [],
   "source": [
    "%load_ext autoreload\n",
    "%autoreload 2"
   ]
  },
  {
   "cell_type": "code",
   "execution_count": null,
   "id": "2beb3bac-3d01-427a-91fb-4bbc599c0c09",
   "metadata": {},
   "outputs": [],
   "source": [
    "import geopandas as gpd\n",
    "import pandas as pd\n",
    "import numpy as np\n",
    "from os import path\n",
    "\n",
    "pd.set_option('display.max_columns', None)\n",
    "pd.set_option('display.max_rows', 500)"
   ]
  },
  {
   "cell_type": "markdown",
   "id": "b6589368-d928-4562-bef8-658090e3c183",
   "metadata": {},
   "source": [
    "## Load data\n",
    "Load interpolated/point data for vessels/whales - this is at 10 minute resolution, allowing detection of encounters between vessels/whales"
   ]
  },
  {
   "cell_type": "code",
   "execution_count": null,
   "id": "03d49341-3e94-493b-ba27-433a43a929ff",
   "metadata": {},
   "outputs": [],
   "source": [
    "from data_processing import load_data\n",
    "\n",
    "vessel_data_files = [path.join('data', 'vessels', f'{vessel_type}_points.gpkg') for vessel_type in ['Fishing', 'Other', 'Cargo', 'Passenger', 'Tanker']]\n",
    "vessel_data_sets = [load_data.load_vessel_points(vdf, 2193) for vdf in vessel_data_files]\n",
    "\n",
    "vessel_points = pd.concat(vessel_data_sets)"
   ]
  },
  {
   "cell_type": "code",
   "execution_count": null,
   "id": "a884cb46-5296-4287-8266-cba6e381ade4",
   "metadata": {},
   "outputs": [],
   "source": [
    "whales_interp = load_data.load_whales('data/whales/df_all_3.csv', vessel_points.geometry.total_bounds, 2193, 10)"
   ]
  },
  {
   "cell_type": "code",
   "execution_count": null,
   "id": "6b7055ff-30a9-45b9-af34-828caa38d699",
   "metadata": {},
   "outputs": [],
   "source": [
    "from data_processing import encounters\n",
    "\n",
    "fname = 'encounters.pickle'\n",
    "if path.isfile(fname):\n",
    "    vessel_points = pd.read_pickle(fname)\n",
    "else:\n",
    "    vessel_points['whale_dist'] = encounters.dist_to_whales(vessel_points, whales_interp)\n",
    "    vessel_points.to_pickle('encounters.pickle')"
   ]
  },
  {
   "cell_type": "markdown",
   "id": "749d38ee-a8af-4382-aaf1-daa9090d3039",
   "metadata": {},
   "source": [
    "## Plotting\n",
    "Plot vessel + whale traces, color encounters"
   ]
  },
  {
   "cell_type": "code",
   "execution_count": null,
   "id": "a5dab463-abfa-4589-8916-07742fe23114",
   "metadata": {},
   "outputs": [],
   "source": [
    "from plotting import heatmap"
   ]
  },
  {
   "cell_type": "code",
   "execution_count": null,
   "id": "e38b2b45-13f8-4946-aabb-91a3028763c1",
   "metadata": {},
   "outputs": [],
   "source": [
    "from bokeh.io import output_notebook\n",
    "from bokeh.plotting import show\n",
    "output_notebook()"
   ]
  },
  {
   "cell_type": "code",
   "execution_count": null,
   "id": "ba8590a0d2d5eec2",
   "metadata": {
    "collapsed": false
   },
   "outputs": [],
   "source": [
    "whales, vessels, protected_areas, basemap, bounds = load_data.load_all()"
   ]
  },
  {
   "cell_type": "code",
   "execution_count": null,
   "id": "da0ced40-2b84-4365-a4b9-ed86da8f7bee",
   "metadata": {},
   "outputs": [],
   "source": [
    "ts = whales_interp.reset_index().loc[20000, 'timestamp']"
   ]
  },
  {
   "cell_type": "code",
   "execution_count": null,
   "id": "fb04363b-d5de-4637-afd4-d423cb3e7b3b",
   "metadata": {},
   "outputs": [],
   "source": [
    "p = heatmap.encounters_map(whales, vessels, vessel_points, protected_areas, basemap, bounds, max_dist=20000)\n",
    "# p, vf, wf = heatmap.plot_location(p, vessel_points, whales_interp, ts)\n",
    "show(p)"
   ]
  },
  {
   "cell_type": "markdown",
   "id": "012e652d-8625-4237-b91c-e81177443452",
   "metadata": {},
   "source": [
    "## Generate partial linestrings"
   ]
  }
 ],
 "metadata": {
  "kernelspec": {
   "display_name": "Python 3 (ipykernel)",
   "language": "python",
   "name": "python3"
  },
  "language_info": {
   "codemirror_mode": {
    "name": "ipython",
    "version": 3
   },
   "file_extension": ".py",
   "mimetype": "text/x-python",
   "name": "python",
   "nbconvert_exporter": "python",
   "pygments_lexer": "ipython3",
   "version": "3.11.4"
  }
 },
 "nbformat": 4,
 "nbformat_minor": 5
}
