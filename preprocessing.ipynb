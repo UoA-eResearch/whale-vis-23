{
 "cells": [
  {
   "cell_type": "code",
   "execution_count": 1,
   "id": "initial_id",
   "metadata": {
    "ExecuteTime": {
     "end_time": "2023-11-30T23:19:44.861060900Z",
     "start_time": "2023-11-30T23:19:44.768065800Z"
    },
    "collapsed": true,
    "jupyter": {
     "outputs_hidden": true
    }
   },
   "outputs": [],
   "source": [
    "%load_ext autoreload\n",
    "%autoreload 2"
   ]
  },
  {
   "cell_type": "code",
   "execution_count": 3,
   "id": "d65b54726f7f5660",
   "metadata": {
    "ExecuteTime": {
     "end_time": "2023-11-30T23:20:41.979523800Z",
     "start_time": "2023-11-30T23:20:41.683829500Z"
    },
    "collapsed": false,
    "jupyter": {
     "outputs_hidden": false
    }
   },
   "outputs": [],
   "source": [
    "import numpy as np\n",
    "import pandas as pd\n",
    "import geopandas as gpd\n",
    "from os import path\n",
    "\n",
    "pd.set_option('display.max_columns', None)\n",
    "pd.set_option('display.max_rows', 500)"
   ]
  },
  {
   "cell_type": "code",
   "execution_count": 4,
   "id": "cc9c79e2dc8ca3f0",
   "metadata": {
    "ExecuteTime": {
     "end_time": "2023-11-30T23:21:03.246983100Z",
     "start_time": "2023-11-30T23:20:55.112442300Z"
    },
    "collapsed": false,
    "jupyter": {
     "outputs_hidden": false
    }
   },
   "outputs": [],
   "source": [
    "from data_processing import load_data"
   ]
  },
  {
   "cell_type": "code",
   "execution_count": null,
   "id": "775234aa3a09d6f",
   "metadata": {
    "collapsed": false,
    "jupyter": {
     "outputs_hidden": false
    }
   },
   "outputs": [],
   "source": [
    "whales, vessels, protected_areas, basemap, bounds = load_data.load_all()"
   ]
  },
  {
   "cell_type": "markdown",
   "id": "e844374b02ddeca8",
   "metadata": {
    "collapsed": false,
    "jupyter": {
     "outputs_hidden": false
    }
   },
   "source": [
    "# Load vessel data and snap to coast"
   ]
  },
  {
   "cell_type": "code",
   "execution_count": null,
   "id": "48a849066a4d2c0a",
   "metadata": {
    "collapsed": false,
    "jupyter": {
     "outputs_hidden": false
    }
   },
   "outputs": [],
   "source": [
    "# Vessel points, interpolated to 10 minutes, for calculating encounters\n",
    "vessel_data_files = [path.join('data', 'vessels', f'{vessel_type}_points.gpkg') for vessel_type in ['Fishing', 'Passenger', 'Cargo', 'Tanker', 'Other']]\n",
    "vessel_data_sets = [load_data.load_vessel_points(vdf, 2193) for vdf in vessel_data_files]\n",
    "\n",
    "vessel_points = pd.concat(vessel_data_sets)"
   ]
  },
  {
   "cell_type": "code",
   "execution_count": 5,
   "id": "3699e3bf79881cd4",
   "metadata": {
    "ExecuteTime": {
     "end_time": "2023-11-30T23:23:32.113899400Z",
     "start_time": "2023-11-30T23:23:27.868995600Z"
    },
    "collapsed": false,
    "jupyter": {
     "outputs_hidden": false
    }
   },
   "outputs": [
    {
     "ename": "NameError",
     "evalue": "name 'basemap' is not defined",
     "output_type": "error",
     "traceback": [
      "\u001b[1;31m---------------------------------------------------------------------------\u001b[0m",
      "\u001b[1;31mNameError\u001b[0m                                 Traceback (most recent call last)",
      "Cell \u001b[1;32mIn[5], line 5\u001b[0m\n\u001b[0;32m      2\u001b[0m \u001b[38;5;28;01mimport\u001b[39;00m \u001b[38;5;21;01mswifter\u001b[39;00m\n\u001b[0;32m      3\u001b[0m \u001b[38;5;28;01mfrom\u001b[39;00m \u001b[38;5;21;01mfunctools\u001b[39;00m \u001b[38;5;28;01mimport\u001b[39;00m partial\n\u001b[1;32m----> 5\u001b[0m fn \u001b[38;5;241m=\u001b[39m partial(internal_points_to_coast, coasts\u001b[38;5;241m=\u001b[39m\u001b[43mbasemap\u001b[49m)\n\u001b[0;32m      6\u001b[0m vessel_points[\u001b[38;5;124m'\u001b[39m\u001b[38;5;124mgeometry\u001b[39m\u001b[38;5;124m'\u001b[39m] \u001b[38;5;241m=\u001b[39m vessel_points[\u001b[38;5;124m'\u001b[39m\u001b[38;5;124mgeometry\u001b[39m\u001b[38;5;124m'\u001b[39m]\u001b[38;5;241m.\u001b[39mswifter\u001b[38;5;241m.\u001b[39mapply(fn)\n",
      "\u001b[1;31mNameError\u001b[0m: name 'basemap' is not defined"
     ]
    }
   ],
   "source": [
    "from data_processing.snaptocoast import internal_points_to_coast\n",
    "import swifter\n",
    "from functools import partial\n",
    "\n",
    "fn = partial(internal_points_to_coast, coasts=basemap)\n",
    "vessel_points['geometry'] = vessel_points['geometry'].swifter.apply(fn)"
   ]
  },
  {
   "cell_type": "code",
   "execution_count": null,
   "id": "1d715f4e3d61ebf4",
   "metadata": {
    "collapsed": false,
    "jupyter": {
     "outputs_hidden": false
    }
   },
   "outputs": [],
   "source": [
    "# Save output\n",
    "vessel_points.to_file(path.join('data', 'vessels', 'vessel_points_coast.gpkg'), driver='GPKG')"
   ]
  }
 ],
 "metadata": {
  "kernelspec": {
   "display_name": "Python 3 (ipykernel)",
   "language": "python",
   "name": "python3"
  },
  "language_info": {
   "codemirror_mode": {
    "name": "ipython",
    "version": 3
   },
   "file_extension": ".py",
   "mimetype": "text/x-python",
   "name": "python",
   "nbconvert_exporter": "python",
   "pygments_lexer": "ipython3",
   "version": "3.11.4"
  }
 },
 "nbformat": 4,
 "nbformat_minor": 5
}
