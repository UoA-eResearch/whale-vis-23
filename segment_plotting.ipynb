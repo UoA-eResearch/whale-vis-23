{
 "cells": [
  {
   "cell_type": "code",
   "execution_count": null,
   "id": "02d9c928-4a28-4198-8ba7-1692599d964d",
   "metadata": {},
   "outputs": [],
   "source": [
    "%load_ext autoreload\n",
    "%autoreload 2"
   ]
  },
  {
   "cell_type": "code",
   "execution_count": null,
   "id": "c2a0083d-c5d6-4bfe-b0aa-16c6845a1365",
   "metadata": {},
   "outputs": [],
   "source": [
    "import geopandas as gpd\n",
    "import pandas as pd\n",
    "import numpy as np\n",
    "\n",
    "pd.set_option('display.max_columns', None)\n",
    "pd.set_option('display.max_rows', 500)"
   ]
  },
  {
   "cell_type": "code",
   "execution_count": null,
   "id": "7695ba04-c269-4c52-bf4e-6218bf1f6832",
   "metadata": {},
   "outputs": [],
   "source": [
    "from data_processing import load_data\n",
    "\n",
    "ve = load_data.load_vessel_points('data/vessels/Fishing_points.gpkg', 2193)"
   ]
  },
  {
   "cell_type": "code",
   "execution_count": null,
   "id": "caa638cf-c8a7-4480-92cd-98787c073464",
   "metadata": {},
   "outputs": [],
   "source": [
    "from plotting.util import points_to_segments"
   ]
  },
  {
   "cell_type": "code",
   "execution_count": null,
   "id": "e0d9b088-5fcf-42b7-af49-e8ef29ce8c1b",
   "metadata": {},
   "outputs": [],
   "source": [
    "gdf = points_to_segments(ve)"
   ]
  },
  {
   "cell_type": "code",
   "execution_count": null,
   "id": "87a16866-caac-4310-b488-c7a3bbfae233",
   "metadata": {},
   "outputs": [],
   "source": [
    "from bokeh.io import output_notebook\n",
    "from bokeh.plotting import figure, show\n",
    "from bokeh.models import Segment, GeoJSONDataSource\n",
    "\n",
    "output_notebook()"
   ]
  },
  {
   "cell_type": "code",
   "execution_count": null,
   "id": "07ef58de-fdff-4efc-81a8-38b1ee378e1a",
   "metadata": {},
   "outputs": [],
   "source": [
    "geosource = GeoJSONDataSource(geojson=gdf.to_json(default=str))"
   ]
  },
  {
   "cell_type": "code",
   "execution_count": null,
   "id": "570b5810-8562-45b8-932d-6947cedff9f6",
   "metadata": {},
   "outputs": [],
   "source": [
    "p = figure()"
   ]
  },
  {
   "cell_type": "code",
   "execution_count": null,
   "id": "c94d86ad-e1f1-470a-9936-e220a5e5f35b",
   "metadata": {},
   "outputs": [],
   "source": [
    "p.multi_line(xs='xs', ys='ys', source=geosource)"
   ]
  },
  {
   "cell_type": "code",
   "execution_count": null,
   "id": "329963ea-a464-4960-8099-b47000f99f7a",
   "metadata": {},
   "outputs": [],
   "source": [
    "show(p)"
   ]
  },
  {
   "cell_type": "code",
   "execution_count": null,
   "id": "0d3633bc-a89b-4258-9166-775561d572b5",
   "metadata": {},
   "outputs": [],
   "source": []
  }
 ],
 "metadata": {
  "kernelspec": {
   "display_name": "Python 3 (ipykernel)",
   "language": "python",
   "name": "python3"
  },
  "language_info": {
   "codemirror_mode": {
    "name": "ipython",
    "version": 3
   },
   "file_extension": ".py",
   "mimetype": "text/x-python",
   "name": "python",
   "nbconvert_exporter": "python",
   "pygments_lexer": "ipython3",
   "version": "3.11.4"
  }
 },
 "nbformat": 4,
 "nbformat_minor": 5
}
