{
 "cells": [
  {
   "cell_type": "code",
   "execution_count": null,
   "id": "091a5f49-dce4-466a-893f-1893f3e0f261",
   "metadata": {
    "ExecuteTime": {
     "end_time": "2023-09-06T00:08:38.090917800Z",
     "start_time": "2023-09-06T00:08:38.039055700Z"
    }
   },
   "outputs": [],
   "source": [
    "%load_ext autoreload\n",
    "%autoreload 2"
   ]
  },
  {
   "cell_type": "code",
   "execution_count": null,
   "id": "5275eb52-4f87-444d-b3d9-bf16c62ea5ab",
   "metadata": {
    "ExecuteTime": {
     "end_time": "2023-09-06T00:08:38.555472800Z",
     "start_time": "2023-09-06T00:08:38.089832Z"
    }
   },
   "outputs": [],
   "source": [
    "import pandas as pd\n",
    "from os import path\n",
    "\n",
    "pd.set_option('display.max_columns', None)\n",
    "pd.set_option('display.max_rows', 500)"
   ]
  },
  {
   "cell_type": "markdown",
   "id": "0ba3f934-fc76-4155-8ade-d786fced93fb",
   "metadata": {},
   "source": [
    "## Load data\n",
    "Load interpolated/point data for vessels/whales - this is at 10 minute resolution, allowing detection of encounters between vessels/whales"
   ]
  },
  {
   "cell_type": "code",
   "execution_count": null,
   "id": "fcd9c176-4739-4756-8207-81d59038bdb1",
   "metadata": {
    "ExecuteTime": {
     "end_time": "2023-09-06T00:08:39.208310Z",
     "start_time": "2023-09-06T00:08:38.557478100Z"
    }
   },
   "outputs": [],
   "source": [
    "from data_processing import load_data\n",
    "\n",
    "vessel_data_files = [path.join('data', 'vessels', f'{vessel_type}_points.gpkg') for vessel_type in ['Fishing', 'Other', 'Cargo', 'Passenger', 'Tanker']]\n",
    "vessel_data_sets = [load_data.load_vessel_points(vdf, 2193) for vdf in vessel_data_files]\n",
    "\n",
    "vessel_points = pd.concat(vessel_data_sets)"
   ]
  },
  {
   "cell_type": "code",
   "execution_count": null,
   "id": "d1c516e4-39e0-44d1-bdda-11460073d49d",
   "metadata": {
    "ExecuteTime": {
     "end_time": "2023-09-06T00:08:39.532244Z",
     "start_time": "2023-09-06T00:08:39.210306900Z"
    }
   },
   "outputs": [],
   "source": [
    "whales_interp = load_data.load_whales('data/whales/df_all_3.csv', vessel_points.geometry.total_bounds, 2193, 10)"
   ]
  },
  {
   "cell_type": "code",
   "execution_count": null,
   "id": "e272ba8f-8428-47c7-ae6f-3729c769b7d7",
   "metadata": {
    "ExecuteTime": {
     "end_time": "2023-09-06T00:12:17.366237500Z",
     "start_time": "2023-09-06T00:10:41.855715900Z"
    }
   },
   "outputs": [],
   "source": [
    "from data_processing import encounters\n",
    "\n",
    "fname = 'encounters.pickle'\n",
    "if path.isfile(fname):\n",
    "    vessel_points = pd.read_pickle(fname)\n",
    "else:\n",
    "    vessel_points['whale_dist'] = encounters.dist_to_whales(vessel_points, whales_interp)\n",
    "    vessel_points.to_pickle('encounters.pickle')"
   ]
  },
  {
   "cell_type": "code",
   "execution_count": null,
   "id": "6a8a048d-db09-4b58-b775-72d04f543725",
   "metadata": {
    "ExecuteTime": {
     "end_time": "2023-09-06T00:14:23.066626200Z",
     "start_time": "2023-09-06T00:14:22.166339Z"
    },
    "collapsed": false
   },
   "outputs": [],
   "source": [
    "whales, vessels, protected_areas, basemap, bounds = load_data.load_all()"
   ]
  },
  {
   "cell_type": "code",
   "execution_count": null,
   "id": "85724ef8-8520-4361-b6a0-b0646ea0c879",
   "metadata": {},
   "outputs": [],
   "source": [
    "whales_lines = load_data.load_whale_lines('data/whales/df_all_3.csv', 2193)"
   ]
  },
  {
   "cell_type": "code",
   "execution_count": null,
   "id": "db569b5a-0e4a-4c33-8ee8-b1b6d460c817",
   "metadata": {},
   "outputs": [],
   "source": [
    "# Simplify geometry & drop columns to reduce html size\n",
    "\n",
    "whales_lines.drop(columns=['id'], inplace=True)\n",
    "vessel_points.drop(columns=['timestamp', 'callsign', 'type'], inplace=True)"
   ]
  },
  {
   "cell_type": "markdown",
   "id": "8416b251-614b-4600-abbf-76a81b3c42c5",
   "metadata": {},
   "source": [
    "## Plotting\n",
    "Plot vessel + whale traces, color encounters"
   ]
  },
  {
   "cell_type": "code",
   "execution_count": null,
   "id": "fdf806ee-d539-4b43-98a2-d219c4915e88",
   "metadata": {
    "ExecuteTime": {
     "end_time": "2023-09-06T00:12:41.955520100Z",
     "start_time": "2023-09-06T00:12:41.865488500Z"
    }
   },
   "outputs": [],
   "source": [
    "from plotting import heatmap"
   ]
  },
  {
   "cell_type": "code",
   "execution_count": null,
   "id": "8f971469-ecd9-4505-a7dd-2d325d5c307d",
   "metadata": {
    "ExecuteTime": {
     "end_time": "2023-09-06T00:12:42.544023600Z",
     "start_time": "2023-09-06T00:12:42.420105700Z"
    }
   },
   "outputs": [],
   "source": [
    "from bokeh.io import output_notebook, output_file, export_png\n",
    "from bokeh.plotting import show\n",
    "output_notebook()\n",
    "output_file('encounters.html', title='Encounters')"
   ]
  },
  {
   "cell_type": "code",
   "execution_count": null,
   "id": "bd435ae2-c4f3-48db-81f3-833f77b0067b",
   "metadata": {
    "ExecuteTime": {
     "end_time": "2023-09-06T00:17:14.060556500Z",
     "start_time": "2023-09-06T00:17:04.387498700Z"
    },
    "scrolled": true
   },
   "outputs": [],
   "source": [
    "p = heatmap.encounters_map(whales_lines, vessels, vessel_points, protected_areas, basemap, bounds, max_dist=20000)\n",
    "show(p)"
   ]
  },
  {
   "cell_type": "code",
   "execution_count": null,
   "id": "016b747b-b066-463f-b0ad-469a2b7db50e",
   "metadata": {
    "scrolled": true
   },
   "outputs": [],
   "source": [
    "export_png(p, filename='encounters.png')"
   ]
  }
 ],
 "metadata": {
  "kernelspec": {
   "display_name": "Python 3 (ipykernel)",
   "language": "python",
   "name": "python3"
  },
  "language_info": {
   "codemirror_mode": {
    "name": "ipython",
    "version": 3
   },
   "file_extension": ".py",
   "mimetype": "text/x-python",
   "name": "python",
   "nbconvert_exporter": "python",
   "pygments_lexer": "ipython3",
   "version": "3.11.4"
  }
 },
 "nbformat": 4,
 "nbformat_minor": 5
}
