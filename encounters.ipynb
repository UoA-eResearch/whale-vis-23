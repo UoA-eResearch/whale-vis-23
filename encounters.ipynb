{
 "cells": [
  {
   "cell_type": "code",
   "execution_count": null,
   "id": "091a5f49-dce4-466a-893f-1893f3e0f261",
   "metadata": {},
   "outputs": [],
   "source": [
    "%load_ext autoreload\n",
    "%autoreload 2"
   ]
  },
  {
   "cell_type": "code",
   "execution_count": null,
   "id": "5275eb52-4f87-444d-b3d9-bf16c62ea5ab",
   "metadata": {},
   "outputs": [],
   "source": [
    "import geopandas as gpd\n",
    "import pandas as pd\n",
    "import numpy as np\n",
    "from os import path\n",
    "\n",
    "pd.set_option('display.max_columns', None)\n",
    "pd.set_option('display.max_rows', 500)"
   ]
  },
  {
   "cell_type": "markdown",
   "id": "0ba3f934-fc76-4155-8ade-d786fced93fb",
   "metadata": {},
   "source": [
    "## Load data\n",
    "Load interpolated/point data for vessels/whales - this is at 10 minute resolution, allowing detection of encounters between vessels/whales"
   ]
  },
  {
   "cell_type": "code",
   "execution_count": null,
   "outputs": [],
   "source": [
    "from data_processing import load_data, encounters\n",
    "from data_processing.snaptocoast import internal_points_to_coast"
   ],
   "metadata": {
    "collapsed": false
   },
   "id": "ea5eb5898616f664"
  },
  {
   "cell_type": "code",
   "execution_count": null,
   "outputs": [],
   "source": [
    "# base data for drawing map\n",
    "whales, vessels, protected_areas, basemap, bounds = load_data.load_all()"
   ],
   "metadata": {
    "collapsed": false
   },
   "id": "95404ca2da4d339"
  },
  {
   "cell_type": "code",
   "execution_count": null,
   "outputs": [],
   "source": [
    "# Load whale lines for plotting\n",
    "whales_lines = load_data.load_whale_lines('data/whales/df_all_3.csv', 2193)"
   ],
   "metadata": {
    "collapsed": false
   },
   "id": "1c47b601b449b072"
  },
  {
   "cell_type": "code",
   "execution_count": null,
   "id": "fcd9c176-4739-4756-8207-81d59038bdb1",
   "metadata": {},
   "outputs": [],
   "source": [
    "# Vessel points, interpolated to 10 minutes, for calculating encounters\n",
    "vessel_data_files = [path.join('data', 'vessels', f'{vessel_type}_points.gpkg') for vessel_type in ['Fishing', 'Other', 'Cargo', 'Passenger', 'Tanker']]\n",
    "vessel_data_sets = [load_data.load_vessel_points(vdf, 2193) for vdf in vessel_data_files]\n",
    "\n",
    "vessel_points = pd.concat(vessel_data_sets)\n",
    "\n",
    "vessel_points['geometry'] = vessel_points['geometry'].progress_apply(internal_points_to_coast, coasts=basemap)"
   ]
  },
  {
   "cell_type": "code",
   "execution_count": null,
   "id": "d1c516e4-39e0-44d1-bdda-11460073d49d",
   "metadata": {},
   "outputs": [],
   "source": [
    "# Whale points, interpolated to 10 minutes, for calculating encounters\n",
    "whales_points = load_data.load_whales('data/whales/df_all_3.csv', vessel_points.geometry.total_bounds, 2193, 10)"
   ]
  },
  {
   "cell_type": "code",
   "execution_count": null,
   "id": "aed754ed-a0d5-4cd9-be00-b23254b3b151",
   "metadata": {},
   "outputs": [],
   "source": [
    "# Calculate encounters from vessel perspective (takes 1+ hours)\n",
    "vessel_encounters_fname = 'vessel_encounters.pickle'\n",
    "if path.isfile(vessel_encounters_fname):\n",
    "    vessel_encounters = pd.read_pickle(vessel_encounters_fname)\n",
    "else:\n",
    "    vessel_encounters = vessel_points.copy()\n",
    "    vessel_encounters['whale_dist'] = encounters.dist_to_whales(vessel_points, whales_points)\n",
    "    vessel_encounters.to_pickle(vessel_encounters_fname)"
   ]
  },
  {
   "cell_type": "code",
   "execution_count": null,
   "outputs": [],
   "source": [
    "# Calculate encounters from whale perspective (takes 1+ hours)\n",
    "whale_encounters_fname = 'whale_encounters.pickle'\n",
    "if path.isfile(whale_encounters_fname):\n",
    "    whales_encounters = pd.read_pickle(whale_encounters_fname)\n",
    "else:\n",
    "    whales_encounters = whales_points.copy()\n",
    "    whales_encounters['dist_to_vessel'] = encounters.dist_to_whales(whales_points, vessel_points)\n",
    "    whales_encounters.to_pickle(whale_encounters_fname)"
   ],
   "metadata": {
    "collapsed": false
   },
   "id": "c009a10b9fb0a060"
  },
  {
   "cell_type": "code",
   "execution_count": null,
   "outputs": [],
   "source": [
    "# Simplify geometry & drop columns to reduce html size\n",
    "whales_lines.drop(columns=['id'], inplace=True)\n",
    "vessel_points.drop(columns=['timestamp', 'callsign', 'type'], inplace=True)"
   ],
   "metadata": {
    "collapsed": false
   },
   "id": "541593ccbf8cce8a"
  },
  {
   "cell_type": "markdown",
   "id": "8416b251-614b-4600-abbf-76a81b3c42c5",
   "metadata": {},
   "source": [
    "## Plotting\n",
    "Plot vessel + whale traces, color encounters"
   ]
  },
  {
   "cell_type": "code",
   "execution_count": null,
   "id": "fdf806ee-d539-4b43-98a2-d219c4915e88",
   "metadata": {},
   "outputs": [],
   "source": [
    "from plotting import heatmap"
   ]
  },
  {
   "cell_type": "code",
   "execution_count": null,
   "id": "8f971469-ecd9-4505-a7dd-2d325d5c307d",
   "metadata": {},
   "outputs": [],
   "source": [
    "from bokeh.io import output_notebook, output_file, export_png\n",
    "from bokeh.plotting import show\n",
    "output_notebook()\n",
    "output_file('encounters.html', title='Encounters')"
   ]
  },
  {
   "cell_type": "code",
   "execution_count": null,
   "id": "bd435ae2-c4f3-48db-81f3-833f77b0067b",
   "metadata": {
    "scrolled": true
   },
   "outputs": [],
   "source": [
    "p = heatmap.encounters_map(whales_lines, vessels, vessel_encounters, protected_areas, basemap, bounds, max_dist=20000)\n",
    "show(p)"
   ]
  },
  {
   "cell_type": "code",
   "execution_count": null,
   "id": "016b747b-b066-463f-b0ad-469a2b7db50e",
   "metadata": {
    "scrolled": true
   },
   "outputs": [],
   "source": [
    "export_png(p, filename='encounters.png')"
   ]
  }
 ],
 "metadata": {
  "kernelspec": {
   "display_name": "Python 3 (ipykernel)",
   "language": "python",
   "name": "python3"
  },
  "language_info": {
   "codemirror_mode": {
    "name": "ipython",
    "version": 3
   },
   "file_extension": ".py",
   "mimetype": "text/x-python",
   "name": "python",
   "nbconvert_exporter": "python",
   "pygments_lexer": "ipython3",
   "version": "3.11.4"
  }
 },
 "nbformat": 4,
 "nbformat_minor": 5
}
