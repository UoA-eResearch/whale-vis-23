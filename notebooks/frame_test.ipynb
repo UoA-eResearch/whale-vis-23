{
 "cells": [
  {
   "metadata": {},
   "cell_type": "code",
   "source": [
    "import pandas\n",
    "%load_ext autoreload\n",
    "%autoreload 2"
   ],
   "id": "a86d1d5df0059979",
   "outputs": [],
   "execution_count": null
  },
  {
   "cell_type": "code",
   "id": "initial_id",
   "metadata": {
    "collapsed": true
   },
   "source": [
    "import os\n",
    "from pathlib import Path\n",
    "\n",
    "import pandas as pd\n",
    "import geopandas as gpd\n",
    "\n",
    "from bokeh.io import export_png, show\n",
    "from bokeh.models import GeoJSONDataSource\n",
    "\n",
    "from plotting import heatmap\n",
    "from utils import timer"
   ],
   "outputs": [],
   "execution_count": null
  },
  {
   "metadata": {},
   "cell_type": "code",
   "source": [
    "from bokeh.io import output_notebook\n",
    "output_notebook()"
   ],
   "id": "6b780dccf3e6979a",
   "outputs": [],
   "execution_count": null
  },
  {
   "metadata": {},
   "cell_type": "code",
   "source": [
    "# Run in project dir\n",
    "cur_dir = Path(os.path.abspath(''))\n",
    "if cur_dir.name == 'notebooks':\n",
    "    os.chdir(cur_dir.parent)\n",
    "print(os.getcwd())"
   ],
   "id": "a137797366cab25a",
   "outputs": [],
   "execution_count": null
  },
  {
   "metadata": {},
   "cell_type": "code",
   "source": [
    "# Smaller test range:\n",
    "# start = '2020-08-01'\n",
    "# end = '2020-08-30'\n",
    "\n",
    "# Full date range\n",
    "start = '2020-07-01'\n",
    "end = '2023-06-30'"
   ],
   "id": "5d5e45b3d8b260fb",
   "outputs": [],
   "execution_count": null
  },
  {
   "metadata": {},
   "cell_type": "code",
   "source": [
    "# Load data\n",
    "with timer('Load data'):\n",
    "    whales_interp = gpd.read_parquet(f'data/intermediate/whale_pts_final_{start}_{end}.parquet')\n",
    "    vessel_points = gpd.read_parquet(f'data/intermediate/vessel_pts_final_{start}_{end}.parquet')\n",
    "    protected_areas = gpd.read_parquet('data/intermediate/protected_final.parquet')\n",
    "    whales_segs = gpd.read_parquet(f'data/intermediate/whale_seg_final_{start}_{end}.parquet')\n",
    "    vessel_segs = gpd.read_parquet(f'data/intermediate/vessel_seg_final_{start}_{end}.parquet')\n",
    "    basemap = gpd.read_parquet('data/intermediate/basemap_final.parquet')\n",
    "\n",
    "use_encounters = True\n",
    "\n",
    "if use_encounters:\n",
    "    vessel_encounters = gpd.read_parquet(f'data/intermediate/vessel_encounters_final_{start}_{end}.parquet')\n",
    "    # whale_encounters = gpd.read_parquet(f'data/intermediate/whale_encounters_final_{start}_{end}.parquet')\n",
    "else:\n",
    "    vessel_encounters = None"
   ],
   "id": "c5a0d1a43c524c9f",
   "outputs": [],
   "execution_count": null
  },
  {
   "metadata": {},
   "cell_type": "code",
   "source": [
    "bounds = 'auck'\n",
    "timestamps = pd.date_range(start, end, freq='30min')"
   ],
   "id": "ce213ae146c185f3",
   "outputs": [],
   "execution_count": null
  },
  {
   "metadata": {},
   "cell_type": "code",
   "source": [
    "\n",
    "basemap_src = GeoJSONDataSource(geojson=basemap.to_json(default=str))\n",
    "\n",
    "# Map bounds\n",
    "bounds_full = vessel_points.geometry.total_bounds\n",
    "bounds_ant = [178, -50.5, 179.5, -47]\n",
    "bounds_auck = [165.25, -51.5, 167.25, -49.5]\n",
    "bounds_camp = [168.25, -53, 169.75, -52]\n",
    "\n",
    "bds = {\n",
    "    'full': bounds_full,\n",
    "    'auck': bounds_auck,\n",
    "    'camp': bounds_camp,\n",
    "    'anti': bounds_ant,\n",
    "}[bounds]\n",
    "\n",
    "done = 0\n",
    "ts = timestamps[19700]\n",
    "with timer('Full frame'):\n",
    "    with timer('Generate frame'):\n",
    "        fig = heatmap.animation_frame_fade(\n",
    "            whales_segs, vessel_segs,\n",
    "            whales_interp, vessel_points,\n",
    "            protected_areas, basemap_src, bds, ts, vessel_encounters)\n",
    "    with timer('Export frame'):\n",
    "        show(fig)"
   ],
   "id": "19faf9e79873fd60",
   "outputs": [],
   "execution_count": null
  },
  {
   "metadata": {},
   "cell_type": "code",
   "source": [
    "# Test static map\n",
    "ranges = [('2020-07-01', '2023-06-01'),\n",
    "          ('2020-07-01', '2021-06-01'),\n",
    "          ('2021-07-01', '2022-06-01'),\n",
    "          ('2022-07-01', '2023-06-01')]\n",
    "range_labels = ['full', '2020', '2021', '2022']\n",
    "\n",
    "timestamps = {\n",
    "    label: pd.date_range(start, end, freq='30min')\n",
    "    for label, (start, end) in zip(range_labels, ranges)\n",
    "}\n",
    "\n",
    "whale_mask = {\n",
    "    label: (whales_interp.timestamp >= start) & (whales_interp.timestamp < end)\n",
    "    for label, (start, end) in zip(range_labels, ranges)\n",
    "}\n",
    "\n",
    "vessel_mask = {\n",
    "    label: (vessel_points.timestamp >= start) & (vessel_points.timestamp < end)\n",
    "    for label, (start, end) in zip(range_labels, ranges)\n",
    "}\n",
    "\n",
    "encounters_mask = {\n",
    "    label: (vessel_encounters.timestamp >= start) & (vessel_encounters.timestamp < end)\n",
    "    for label, (start, end) in zip(range_labels, ranges)\n",
    "}\n",
    "\n",
    "bds = {\n",
    "    'full': bounds_full,\n",
    "    'auck': bounds_auck,\n",
    "    'camp': bounds_camp,\n",
    "    'anti': bounds_ant,\n",
    "}\n",
    "\n",
    "label = '2022'\n",
    "bname = 'auck'\n",
    "use_encounters = False\n",
    "\n",
    "with timer('Full frame'):\n",
    "    with timer('Generate frame'):\n",
    "        fig = heatmap.animation_frame(\n",
    "            whales_interp[whale_mask[label]], vessel_points[vessel_mask[label]],\n",
    "            protected_areas, basemap_src, bds[bname],\n",
    "            encounters=vessel_encounters[encounters_mask[label]] if use_encounters else None)\n",
    "    with timer('Export frame'):\n",
    "        show(fig)"
   ],
   "id": "7d017fab5f59cf96",
   "outputs": [],
   "execution_count": null
  },
  {
   "metadata": {},
   "cell_type": "code",
   "source": [
    "# Figure out how many frames in each yearly video\n",
    "skip_no_whales = timestamps.map(lambda ts: any(whales_interp['timestamp'] == ts))\n",
    "skipped_timestamps = timestamps[skip_no_whales]\n",
    "\n",
    "timestamps = pd.date_range(start, end, freq='30min')\n",
    "filtered_timestamps = pd.read_parquet(f'data/timestamps/filtered_timestamps_{start}_{end}_{3}.parquet').index\n",
    "\n",
    "\n",
    "ranges = [('2020-07-01', '2023-06-01'),\n",
    "          ('2020-07-01', '2021-06-01'),\n",
    "          ('2021-07-01', '2022-06-01'),\n",
    "          ('2022-07-01', '2023-06-01')]\n",
    "range_labels = ['full', '2020', '2021', '2022']\n",
    "\n",
    "timestamps_ranges = {\n",
    "    label: pd.date_range(start, end, freq='30min')\n",
    "    for label, (start, end) in zip(range_labels, ranges)\n",
    "}\n",
    "\n",
    "for label, (r_start, r_end) in zip(range_labels, ranges):\n",
    "    num_full = len(timestamps[(timestamps >= r_start) & (timestamps < r_end)])\n",
    "    num_filtered = len(filtered_timestamps[(filtered_timestamps >= r_start) & (filtered_timestamps < r_end)])\n",
    "    num_skipped = len(skipped_timestamps[(skipped_timestamps >= r_start) & (skipped_timestamps < r_end)])\n",
    "    \n",
    "    print(f'{label} - #frames: {num_full} / {num_filtered} / {num_skipped} - time at 30fps: {num_full / 30 / 60:.2f} / {num_filtered / 30 / 60:.2f} / {num_skipped / 30 / 60:.2f} mins')\n",
    "    # print(label, len(timestamps[(timestamps >= start) & (timestamps < end)]))\n",
    "    # print(label, len(filtered_timestamps[(filtered_timestamps >= start) & (filtered_timestamps < end)]))"
   ],
   "id": "4d45b13c3e6f259c",
   "outputs": [],
   "execution_count": null
  },
  {
   "metadata": {},
   "cell_type": "code",
   "source": [
    "# Test timestamp filtering with bounds\n",
    "timestamps = pd.date_range(start, end, freq='30min')\n",
    "\n",
    "whales_interp = gpd.read_parquet(f'data/intermediate/whale_pts_final_{start}_{end}.parquet')\n",
    "\n",
    "has_whale = timestamps.map(lambda ts: any(whales_interp['timestamp'] == ts))"
   ],
   "id": "9f951b215e128a88",
   "outputs": [],
   "execution_count": null
  },
  {
   "metadata": {},
   "cell_type": "code",
   "source": [
    "auck_whales = whales_interp.cx[bounds_auck[0]:bounds_auck[2], bounds_auck[1]:bounds_auck[3]]\n",
    "\n",
    "auck_has_whale = timestamps.map(lambda ts: any(auck_whales['timestamp'] == ts))"
   ],
   "id": "85d7c41891b5db9d",
   "outputs": [],
   "execution_count": null
  },
  {
   "metadata": {},
   "cell_type": "code",
   "source": [
    "print(len(whales_interp), sum(has_whale))\n",
    "print(len(auck_whales), sum(auck_has_whale))"
   ],
   "id": "f9713a790f7d8cac",
   "outputs": [],
   "execution_count": null
  }
 ],
 "metadata": {
  "kernelspec": {
   "display_name": "Python 3",
   "language": "python",
   "name": "python3"
  },
  "language_info": {
   "codemirror_mode": {
    "name": "ipython",
    "version": 2
   },
   "file_extension": ".py",
   "mimetype": "text/x-python",
   "name": "python",
   "nbconvert_exporter": "python",
   "pygments_lexer": "ipython2",
   "version": "2.7.6"
  }
 },
 "nbformat": 4,
 "nbformat_minor": 5
}
