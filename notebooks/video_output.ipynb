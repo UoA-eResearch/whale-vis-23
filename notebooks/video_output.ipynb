{
 "cells": [
  {
   "cell_type": "code",
   "id": "initial_id",
   "metadata": {
    "collapsed": true
   },
   "source": [
    "%load_ext autoreload\n",
    "%autoreload 2"
   ],
   "outputs": [],
   "execution_count": null
  },
  {
   "cell_type": "markdown",
   "source": [
    "# Video Output\n",
    "This notebook produces the ffmpeg command to create the required video sections from previously produced frames"
   ],
   "metadata": {
    "collapsed": false
   },
   "id": "3e5fdcd461edaca5"
  },
  {
   "cell_type": "code",
   "source": [
    "import pandas as pd\n",
    "import numpy as np\n",
    "from plotting import video"
   ],
   "metadata": {
    "collapsed": false
   },
   "id": "ad95c65105d421af",
   "outputs": [],
   "execution_count": null
  },
  {
   "cell_type": "markdown",
   "source": [],
   "metadata": {
    "collapsed": false
   },
   "id": "3fa77ed64da2f66a"
  },
  {
   "cell_type": "code",
   "source": [
    "full_frame_range = pd.date_range(start='2020-07-01', end='2023-07-01', freq='30min')"
   ],
   "metadata": {
    "collapsed": false
   },
   "id": "e7280afccdcb91c0",
   "outputs": [],
   "execution_count": null
  },
  {
   "cell_type": "code",
   "source": [
    "ranges = [\n",
    "    ('2020', '2020-07-01', '2021-07-01'),\n",
    "    ('2021', '2021-07-01', '2022-07-01'),\n",
    "    ('2022', '2022-07-01', '2023-07-01')\n",
    "]"
   ],
   "metadata": {
    "collapsed": false
   },
   "id": "4b0e0b8944aabda9",
   "outputs": [],
   "execution_count": null
  },
  {
   "cell_type": "code",
   "source": [
    "range_indices = [\n",
    "    (label, np.argwhere(full_frame_range == s)[0][0], np.argwhere(full_frame_range == e)[0][0] - 1)\n",
    "    for label, s, e in ranges\n",
    "]"
   ],
   "metadata": {
    "collapsed": false
   },
   "id": "b732170bf9570b",
   "outputs": [],
   "execution_count": null
  },
  {
   "cell_type": "code",
   "source": [
    "for l, si, ei in range_indices:\n",
    "    print(l)\n",
    "    print(f'  start: [{si}] {full_frame_range[si]}')\n",
    "    print(f'  end: [{ei}] {full_frame_range[ei]}')"
   ],
   "metadata": {
    "collapsed": false
   },
   "id": "c827630bf57dcae2",
   "outputs": [],
   "execution_count": null
  },
  {
   "cell_type": "code",
   "source": [
    "# Generate ffmpeg commands - copy and run these individually (or put them in a shell script)\n",
    "shell_script = ['#!/usr/bin/env sh']\n",
    "\n",
    "for bd in ['full', 'auck', 'camp']:\n",
    "    for label, si, ei in range_indices:\n",
    "        command = video.ffmpeg('/pvol/frames', f'frame_{bd}_%04d.png', f'output/{bd}_{label}.mp4', si, ei, 30)\n",
    "        shell_script.append(command)\n",
    "        shell_script.append('')\n",
    "        print()\n",
    "        \n",
    "with open('output/ffmpeg.sh', 'w+') as f:\n",
    "    f.write('\\n'.join(shell_script))"
   ],
   "metadata": {
    "collapsed": false
   },
   "id": "743260bcd7eba779",
   "outputs": [],
   "execution_count": null
  },
  {
   "cell_type": "code",
   "source": [
    "# Repeat for encounters videos\n",
    "shell_script = ['#!/usr/bin/env sh']\n",
    "\n",
    "for bd in ['full', 'auck', 'camp']:\n",
    "    for label, si, ei in range_indices:\n",
    "        command = video.ffmpeg('/pvol/frames_enc', f'frame_{bd}_%04d.png', f'output/{bd}_{label}_enc.mp4', si, ei, 30)\n",
    "        shell_script.append(command)\n",
    "        shell_script.append('')\n",
    "        print()\n",
    "        \n",
    "with open('output/ffmpeg_enc.sh', 'w+') as f:\n",
    "    f.write('\\n'.join(shell_script))"
   ],
   "metadata": {
    "collapsed": false
   },
   "id": "88b4e5ab1b8d07d9",
   "outputs": [],
   "execution_count": null
  },
  {
   "cell_type": "code",
   "source": [
    "shell_script"
   ],
   "metadata": {
    "collapsed": false
   },
   "id": "ac3ad29d4fd4a9f7",
   "outputs": [],
   "execution_count": null
  }
 ],
 "metadata": {
  "kernelspec": {
   "display_name": "Python 3",
   "language": "python",
   "name": "python3"
  },
  "language_info": {
   "codemirror_mode": {
    "name": "ipython",
    "version": 2
   },
   "file_extension": ".py",
   "mimetype": "text/x-python",
   "name": "python",
   "nbconvert_exporter": "python",
   "pygments_lexer": "ipython2",
   "version": "2.7.6"
  }
 },
 "nbformat": 4,
 "nbformat_minor": 5
}
