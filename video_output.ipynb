{
 "cells": [
  {
   "cell_type": "code",
   "execution_count": 1,
   "id": "initial_id",
   "metadata": {
    "collapsed": true,
    "ExecuteTime": {
     "end_time": "2024-01-11T22:28:37.328513400Z",
     "start_time": "2024-01-11T22:28:37.236107300Z"
    }
   },
   "outputs": [],
   "source": [
    "%load_ext autoreload\n",
    "%autoreload 2"
   ]
  },
  {
   "cell_type": "markdown",
   "source": [
    "# Video Output\n",
    "This notebook produces the ffmpeg command to create the required video sections from previously produced frames"
   ],
   "metadata": {
    "collapsed": false
   },
   "id": "3e5fdcd461edaca5"
  },
  {
   "cell_type": "code",
   "execution_count": 11,
   "outputs": [],
   "source": [
    "import pandas as pd\n",
    "import numpy as np\n",
    "from plotting import video"
   ],
   "metadata": {
    "collapsed": false,
    "ExecuteTime": {
     "end_time": "2024-01-11T22:34:37.865699900Z",
     "start_time": "2024-01-11T22:34:37.821754Z"
    }
   },
   "id": "ad95c65105d421af"
  },
  {
   "cell_type": "markdown",
   "source": [],
   "metadata": {
    "collapsed": false
   },
   "id": "3fa77ed64da2f66a"
  },
  {
   "cell_type": "code",
   "execution_count": 29,
   "outputs": [],
   "source": [
    "full_frame_range = pd.date_range(start='2020-07-01', end='2023-07-01', freq='30min')"
   ],
   "metadata": {
    "collapsed": false,
    "ExecuteTime": {
     "end_time": "2024-01-11T22:40:33.176762400Z",
     "start_time": "2024-01-11T22:40:33.124338900Z"
    }
   },
   "id": "e7280afccdcb91c0"
  },
  {
   "cell_type": "code",
   "execution_count": 30,
   "outputs": [],
   "source": [
    "ranges = [\n",
    "    ('2020', '2020-07-01', '2021-07-01'),\n",
    "    ('2021', '2021-07-01', '2022-07-01'),\n",
    "    ('2022', '2022-07-01', '2023-07-01')\n",
    "]"
   ],
   "metadata": {
    "collapsed": false,
    "ExecuteTime": {
     "end_time": "2024-01-11T22:40:33.490704700Z",
     "start_time": "2024-01-11T22:40:33.429783500Z"
    }
   },
   "id": "4b0e0b8944aabda9"
  },
  {
   "cell_type": "code",
   "execution_count": 31,
   "outputs": [],
   "source": [
    "range_indices = [\n",
    "    (label, np.argwhere(full_frame_range == s)[0][0], np.argwhere(full_frame_range == e)[0][0] - 1)\n",
    "    for label, s, e in ranges\n",
    "]"
   ],
   "metadata": {
    "collapsed": false,
    "ExecuteTime": {
     "end_time": "2024-01-11T22:40:33.825626600Z",
     "start_time": "2024-01-11T22:40:33.744280500Z"
    }
   },
   "id": "b732170bf9570b"
  },
  {
   "cell_type": "code",
   "execution_count": 33,
   "outputs": [
    {
     "name": "stdout",
     "output_type": "stream",
     "text": [
      "2020\n",
      "  start: [0] 2020-07-01 00:00:00\n",
      "  end: [17519] 2021-06-30 23:30:00\n",
      "2021\n",
      "  start: [17520] 2021-07-01 00:00:00\n",
      "  end: [35039] 2022-06-30 23:30:00\n",
      "2022\n",
      "  start: [35040] 2022-07-01 00:00:00\n",
      "  end: [52559] 2023-06-30 23:30:00\n"
     ]
    }
   ],
   "source": [
    "for l, si, ei in range_indices:\n",
    "    print(l)\n",
    "    print(f'  start: [{si}] {full_frame_range[si]}')\n",
    "    print(f'  end: [{ei}] {full_frame_range[ei]}')"
   ],
   "metadata": {
    "collapsed": false,
    "ExecuteTime": {
     "end_time": "2024-01-11T22:41:00.975304600Z",
     "start_time": "2024-01-11T22:41:00.880659200Z"
    }
   },
   "id": "c827630bf57dcae2"
  },
  {
   "cell_type": "code",
   "execution_count": 36,
   "outputs": [
    {
     "name": "stdout",
     "output_type": "stream",
     "text": [
      "ffmpeg -framerate 30 -start_number 0 -i /pvol/frames/frame_full_%04d.png -frames:v 17520 -c:v libx264 -profile:v high -crf 20 -pix_fmt yuv420p -vf \"pad=ceil(iw/2)*2:ceil(ih/2)*2\" output/full_2020.mp4 -y\n",
      "\n",
      "ffmpeg -framerate 30 -start_number 17520 -i /pvol/frames/frame_full_%04d.png -frames:v 17520 -c:v libx264 -profile:v high -crf 20 -pix_fmt yuv420p -vf \"pad=ceil(iw/2)*2:ceil(ih/2)*2\" output/full_2021.mp4 -y\n",
      "\n",
      "ffmpeg -framerate 30 -start_number 35040 -i /pvol/frames/frame_full_%04d.png -frames:v 17520 -c:v libx264 -profile:v high -crf 20 -pix_fmt yuv420p -vf \"pad=ceil(iw/2)*2:ceil(ih/2)*2\" output/full_2022.mp4 -y\n",
      "\n",
      "ffmpeg -framerate 30 -start_number 0 -i /pvol/frames/frame_auck_%04d.png -frames:v 17520 -c:v libx264 -profile:v high -crf 20 -pix_fmt yuv420p -vf \"pad=ceil(iw/2)*2:ceil(ih/2)*2\" output/auck_2020.mp4 -y\n",
      "\n",
      "ffmpeg -framerate 30 -start_number 17520 -i /pvol/frames/frame_auck_%04d.png -frames:v 17520 -c:v libx264 -profile:v high -crf 20 -pix_fmt yuv420p -vf \"pad=ceil(iw/2)*2:ceil(ih/2)*2\" output/auck_2021.mp4 -y\n",
      "\n",
      "ffmpeg -framerate 30 -start_number 35040 -i /pvol/frames/frame_auck_%04d.png -frames:v 17520 -c:v libx264 -profile:v high -crf 20 -pix_fmt yuv420p -vf \"pad=ceil(iw/2)*2:ceil(ih/2)*2\" output/auck_2022.mp4 -y\n",
      "\n",
      "ffmpeg -framerate 30 -start_number 0 -i /pvol/frames/frame_camp_%04d.png -frames:v 17520 -c:v libx264 -profile:v high -crf 20 -pix_fmt yuv420p -vf \"pad=ceil(iw/2)*2:ceil(ih/2)*2\" output/camp_2020.mp4 -y\n",
      "\n",
      "ffmpeg -framerate 30 -start_number 17520 -i /pvol/frames/frame_camp_%04d.png -frames:v 17520 -c:v libx264 -profile:v high -crf 20 -pix_fmt yuv420p -vf \"pad=ceil(iw/2)*2:ceil(ih/2)*2\" output/camp_2021.mp4 -y\n",
      "\n",
      "ffmpeg -framerate 30 -start_number 35040 -i /pvol/frames/frame_camp_%04d.png -frames:v 17520 -c:v libx264 -profile:v high -crf 20 -pix_fmt yuv420p -vf \"pad=ceil(iw/2)*2:ceil(ih/2)*2\" output/camp_2022.mp4 -y\n"
     ]
    }
   ],
   "source": [
    "# Generate ffmpeg commands - copy and run these individually (or put them in a shell script)\n",
    "shell_script = ['#!/usr/bin/env sh']\n",
    "\n",
    "for bd in ['full', 'auck', 'camp']:\n",
    "    for label, si, ei in range_indices:\n",
    "        command = video.ffmpeg('/pvol/frames', f'frame_{bd}_%04d.png', f'output/{bd}_{label}.mp4', si, ei, 30)\n",
    "        shell_script.append(command)\n",
    "        shell_script.append('')\n",
    "        print()\n",
    "        \n",
    "with open('output/ffmpeg.sh', 'w') as f:\n",
    "    f.write('\\n'.join(shell_script))"
   ],
   "metadata": {
    "collapsed": false,
    "ExecuteTime": {
     "end_time": "2024-01-11T22:44:54.225031Z",
     "start_time": "2024-01-11T22:44:54.172922100Z"
    }
   },
   "id": "743260bcd7eba779"
  },
  {
   "cell_type": "code",
   "execution_count": 6,
   "outputs": [
    {
     "ename": "AttributeError",
     "evalue": "'DatetimeIndex' object has no attribute 'index'",
     "output_type": "error",
     "traceback": [
      "\u001B[1;31m---------------------------------------------------------------------------\u001B[0m",
      "\u001B[1;31mAttributeError\u001B[0m                            Traceback (most recent call last)",
      "Cell \u001B[1;32mIn[6], line 2\u001B[0m\n\u001B[0;32m      1\u001B[0m \u001B[38;5;66;03m# find start date in full range\u001B[39;00m\n\u001B[1;32m----> 2\u001B[0m start_date \u001B[38;5;241m=\u001B[39m \u001B[43mfull_frame_range\u001B[49m\u001B[43m[\u001B[49m\u001B[43mfull_frame_range\u001B[49m\u001B[43m \u001B[49m\u001B[38;5;241;43m==\u001B[39;49m\u001B[43m \u001B[49m\u001B[43mranges\u001B[49m\u001B[43m[\u001B[49m\u001B[38;5;241;43m0\u001B[39;49m\u001B[43m]\u001B[49m\u001B[43m[\u001B[49m\u001B[38;5;241;43m1\u001B[39;49m\u001B[43m]\u001B[49m\u001B[43m]\u001B[49m\u001B[38;5;241;43m.\u001B[39;49m\u001B[43mindex\u001B[49m[\u001B[38;5;241m0\u001B[39m]\n",
      "\u001B[1;31mAttributeError\u001B[0m: 'DatetimeIndex' object has no attribute 'index'"
     ]
    }
   ],
   "source": [
    "# find start date in full range\n",
    "start_date = full_frame_range[full_frame_range == ranges[0][1]].index[0]"
   ],
   "metadata": {
    "collapsed": false,
    "ExecuteTime": {
     "end_time": "2024-01-11T22:33:05.729302900Z",
     "start_time": "2024-01-11T22:33:05.209357900Z"
    }
   },
   "id": "ac3ad29d4fd4a9f7"
  }
 ],
 "metadata": {
  "kernelspec": {
   "display_name": "Python 3",
   "language": "python",
   "name": "python3"
  },
  "language_info": {
   "codemirror_mode": {
    "name": "ipython",
    "version": 2
   },
   "file_extension": ".py",
   "mimetype": "text/x-python",
   "name": "python",
   "nbconvert_exporter": "python",
   "pygments_lexer": "ipython2",
   "version": "2.7.6"
  }
 },
 "nbformat": 4,
 "nbformat_minor": 5
}
